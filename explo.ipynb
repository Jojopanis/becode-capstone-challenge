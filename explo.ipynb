{
 "cells": [
  {
   "cell_type": "code",
   "execution_count": 1,
   "metadata": {},
   "outputs": [],
   "source": [
    "import pandas as pd"
   ]
  },
  {
   "cell_type": "code",
   "execution_count": 2,
   "metadata": {},
   "outputs": [
    {
     "data": {
      "text/html": [
       "<div>\n",
       "<style scoped>\n",
       "    .dataframe tbody tr th:only-of-type {\n",
       "        vertical-align: middle;\n",
       "    }\n",
       "\n",
       "    .dataframe tbody tr th {\n",
       "        vertical-align: top;\n",
       "    }\n",
       "\n",
       "    .dataframe thead th {\n",
       "        text-align: right;\n",
       "    }\n",
       "</style>\n",
       "<table border=\"1\" class=\"dataframe\">\n",
       "  <thead>\n",
       "    <tr style=\"text-align: right;\">\n",
       "      <th></th>\n",
       "      <th>id</th>\n",
       "      <th>slug</th>\n",
       "      <th>title</th>\n",
       "      <th>category</th>\n",
       "      <th>date</th>\n",
       "    </tr>\n",
       "  </thead>\n",
       "  <tbody>\n",
       "    <tr>\n",
       "      <th>0</th>\n",
       "      <td>11459151</td>\n",
       "      <td>le-prix-femina-2024-est-attribue-a-miguel-bonn...</td>\n",
       "      <td>Le prix Femina 2024 est attribué à Miguel Bonn...</td>\n",
       "      <td>Littérature</td>\n",
       "      <td>2024-11-05T13:21:37+01:00</td>\n",
       "    </tr>\n",
       "    <tr>\n",
       "      <th>1</th>\n",
       "      <td>11459163</td>\n",
       "      <td>soupcons-de-fraude-fiscale-par-netflix-perquis...</td>\n",
       "      <td>Soupçons de fraude fiscale par Netflix : perqu...</td>\n",
       "      <td>Justice</td>\n",
       "      <td>2024-11-05T13:21:26+01:00</td>\n",
       "    </tr>\n",
       "    <tr>\n",
       "      <th>2</th>\n",
       "      <td>11459196</td>\n",
       "      <td>inondations-en-espagne-premier-plan-d-aide-de-...</td>\n",
       "      <td>Inondations en Espagne : premier plan d'aide d...</td>\n",
       "      <td>Europe</td>\n",
       "      <td>2024-11-05T13:10:18+01:00</td>\n",
       "    </tr>\n",
       "    <tr>\n",
       "      <th>3</th>\n",
       "      <td>11459165</td>\n",
       "      <td>aux-assises-de-bruxelles-le-jury-est-entre-en-...</td>\n",
       "      <td>Aux assises de Bruxelles, le jury est entré en...</td>\n",
       "      <td>Bruxelles</td>\n",
       "      <td>2024-11-05T13:09:56+01:00</td>\n",
       "    </tr>\n",
       "    <tr>\n",
       "      <th>4</th>\n",
       "      <td>11458952</td>\n",
       "      <td>si-staten-island-reste-un-bastion-republicain-...</td>\n",
       "      <td>\"Staten Island restera un bastion républicain ...</td>\n",
       "      <td>Élection américaine 2024</td>\n",
       "      <td>2024-11-05T07:00:00+01:00</td>\n",
       "    </tr>\n",
       "    <tr>\n",
       "      <th>...</th>\n",
       "      <td>...</td>\n",
       "      <td>...</td>\n",
       "      <td>...</td>\n",
       "      <td>...</td>\n",
       "      <td>...</td>\n",
       "    </tr>\n",
       "    <tr>\n",
       "      <th>9995</th>\n",
       "      <td>11429512</td>\n",
       "      <td>fermeture-du-jeu-video-concord-apres-deux-sema...</td>\n",
       "      <td>Fermeture du jeu vidéo Concord après deux sema...</td>\n",
       "      <td>Jeux vidéo</td>\n",
       "      <td>2024-09-04T18:44:10+02:00</td>\n",
       "    </tr>\n",
       "    <tr>\n",
       "      <th>9996</th>\n",
       "      <td>11429636</td>\n",
       "      <td>norvege-un-acte-criminel-la-mort-du-beluga-esp...</td>\n",
       "      <td>Norvège : un acte criminel ? La mort du \"bélug...</td>\n",
       "      <td>Monde</td>\n",
       "      <td>2024-09-04T18:30:22+02:00</td>\n",
       "    </tr>\n",
       "    <tr>\n",
       "      <th>9997</th>\n",
       "      <td>11425714</td>\n",
       "      <td>venus-de-la-nouvelle-orleans-the-deslondes-son...</td>\n",
       "      <td>Venus de la Nouvelle-Orléans, The Deslondes so...</td>\n",
       "      <td>Classic 21</td>\n",
       "      <td>2024-09-04T18:15:00+02:00</td>\n",
       "    </tr>\n",
       "    <tr>\n",
       "      <th>9998</th>\n",
       "      <td>11429675</td>\n",
       "      <td>mobius-quand-l-acrobatie-devient-poesie-au-the...</td>\n",
       "      <td>Découvrez l'univers surprenant de Voyou</td>\n",
       "      <td>Alors on sort ?</td>\n",
       "      <td>2024-09-04T18:03:39+02:00</td>\n",
       "    </tr>\n",
       "    <tr>\n",
       "      <th>9999</th>\n",
       "      <td>11429596</td>\n",
       "      <td>en-place-une-saison-2-qui-ne-porte-pas-bien-so...</td>\n",
       "      <td>\"En place\" : une saison 2 qui ne porte pas bie...</td>\n",
       "      <td>Tarmac</td>\n",
       "      <td>2024-09-04T17:57:32+02:00</td>\n",
       "    </tr>\n",
       "  </tbody>\n",
       "</table>\n",
       "<p>10000 rows × 5 columns</p>\n",
       "</div>"
      ],
      "text/plain": [
       "            id                                               slug  \\\n",
       "0     11459151  le-prix-femina-2024-est-attribue-a-miguel-bonn...   \n",
       "1     11459163  soupcons-de-fraude-fiscale-par-netflix-perquis...   \n",
       "2     11459196  inondations-en-espagne-premier-plan-d-aide-de-...   \n",
       "3     11459165  aux-assises-de-bruxelles-le-jury-est-entre-en-...   \n",
       "4     11458952  si-staten-island-reste-un-bastion-republicain-...   \n",
       "...        ...                                                ...   \n",
       "9995  11429512  fermeture-du-jeu-video-concord-apres-deux-sema...   \n",
       "9996  11429636  norvege-un-acte-criminel-la-mort-du-beluga-esp...   \n",
       "9997  11425714  venus-de-la-nouvelle-orleans-the-deslondes-son...   \n",
       "9998  11429675  mobius-quand-l-acrobatie-devient-poesie-au-the...   \n",
       "9999  11429596  en-place-une-saison-2-qui-ne-porte-pas-bien-so...   \n",
       "\n",
       "                                                  title  \\\n",
       "0     Le prix Femina 2024 est attribué à Miguel Bonn...   \n",
       "1     Soupçons de fraude fiscale par Netflix : perqu...   \n",
       "2     Inondations en Espagne : premier plan d'aide d...   \n",
       "3     Aux assises de Bruxelles, le jury est entré en...   \n",
       "4     \"Staten Island restera un bastion républicain ...   \n",
       "...                                                 ...   \n",
       "9995  Fermeture du jeu vidéo Concord après deux sema...   \n",
       "9996  Norvège : un acte criminel ? La mort du \"bélug...   \n",
       "9997  Venus de la Nouvelle-Orléans, The Deslondes so...   \n",
       "9998            Découvrez l'univers surprenant de Voyou   \n",
       "9999  \"En place\" : une saison 2 qui ne porte pas bie...   \n",
       "\n",
       "                      category                       date  \n",
       "0                  Littérature  2024-11-05T13:21:37+01:00  \n",
       "1                      Justice  2024-11-05T13:21:26+01:00  \n",
       "2                       Europe  2024-11-05T13:10:18+01:00  \n",
       "3                    Bruxelles  2024-11-05T13:09:56+01:00  \n",
       "4     Élection américaine 2024  2024-11-05T07:00:00+01:00  \n",
       "...                        ...                        ...  \n",
       "9995                Jeux vidéo  2024-09-04T18:44:10+02:00  \n",
       "9996                     Monde  2024-09-04T18:30:22+02:00  \n",
       "9997                Classic 21  2024-09-04T18:15:00+02:00  \n",
       "9998           Alors on sort ?  2024-09-04T18:03:39+02:00  \n",
       "9999                    Tarmac  2024-09-04T17:57:32+02:00  \n",
       "\n",
       "[10000 rows x 5 columns]"
      ]
     },
     "execution_count": 2,
     "metadata": {},
     "output_type": "execute_result"
    }
   ],
   "source": [
    "df = pd.read_json('articles.json')\n",
    "df.drop_duplicates(inplace=True)\n",
    "df"
   ]
  },
  {
   "cell_type": "code",
   "execution_count": 3,
   "metadata": {},
   "outputs": [],
   "source": [
    "import plotly.express as px"
   ]
  },
  {
   "cell_type": "code",
   "execution_count": 12,
   "metadata": {},
   "outputs": [
    {
     "data": {
      "application/vnd.plotly.v1+json": {
       "config": {
        "plotlyServerURL": "https://plot.ly"
       },
       "data": [
        {
         "alignmentgroup": "True",
         "hovertemplate": "category=%{x}<br>title=%{y}<extra></extra>",
         "legendgroup": "",
         "marker": {
          "color": "#636efa",
          "pattern": {
           "shape": ""
          }
         },
         "name": "",
         "offsetgroup": "",
         "orientation": "v",
         "showlegend": false,
         "textposition": "auto",
         "type": "bar",
         "x": [
          "",
          "100% Sport",
          "20 ans VivaCité",
          "A portée de mots",
          "Afrique",
          "Agence Tourisme",
          "Agenda des sorties",
          "Agriculture",
          "Alors on sort ?",
          "Amérique centrale",
          "Amérique du Nord",
          "Amérique du Sud",
          "Analyse communales 2024",
          "Anderlecht",
          "Animation",
          "Animaux de compagnie",
          "Arnold Schoenberg",
          "Articles FALC",
          "Asie",
          "Athlétisme",
          "Attentat à Bruxelles",
          "Attentats de Bruxelles",
          "Autoportrait",
          "Auvio Kids TV",
          "BD",
          "BW Matin",
          "Basket",
          "Basket NBA",
          "Beauté",
          "Belgique",
          "Belgique D3 Prom",
          "Belgodyssée 2024",
          "Bien-être",
          "Bientôt à table",
          "Biodiversité",
          "Bon à savoir",
          "Bonnes adresses",
          "Brabant wallon",
          "Bricolage",
          "Bruxelles",
          "Bruxelles Matin",
          "Budget",
          "Bundesliga - Football",
          "C'est du Belge",
          "C'est pas fini",
          "CAN",
          "CAP48",
          "Ca vaut vraiment le Détour !",
          "Catastrophes naturelles",
          "Challenger Pro League",
          "Championnats Européens",
          "Champions League",
          "Chanson française",
          "Charleroi Matin",
          "Chroniques",
          "Chroniques Culture",
          "Chroniques de la matinale",
          "Cinéma",
          "Cinéma belge",
          "Classic 21",
          "Climat",
          "Concert",
          "Concours",
          "Concours avec dotation",
          "Concours et partenariat",
          "Concours iXPé",
          "Conference League - Foot",
          "Coupe de Belgique",
          "Coupe du Monde 2026",
          "Cuisine",
          "Cuisine - Recette - plats",
          "Culture",
          "Culture web",
          "Cyclisme",
          "Dans quel monde on vit",
          "Danse",
          "Demain nous appartient",
          "Dernières découvertes",
          "Dessert",
          "Diables Rouges",
          "Doc Shot",
          "Documentaires",
          "Documentaires Société",
          "Documentaires musicaux",
          "Dossier",
          "Dr Boogie",
          "Décodage médias",
          "Décrypte",
          "Ecologie",
          "Economie",
          "Education",
          "Elections 2024",
          "Elections en Belgique",
          "Elections mode d'emploi",
          "Elections provinciales",
          "Electro",
          "Emission La Tribune",
          "Emploi",
          "En roue libre",
          "Energie",
          "Enjeux 2024",
          "Ensemble pour la planète",
          "Entrée",
          "Environnement",
          "Equitation",
          "Eredivisie - Football",
          "Espace",
          "Espoirs",
          "Etcétéra",
          "Europa League",
          "Europe",
          "Exposition",
          "Exposition - Musées",
          "Faky",
          "Famille",
          "Fenêtre sur doc",
          "Festival M3 BW",
          "Flandre",
          "Football",
          "Formule 1",
          "Fêtes de Wallonie",
          "Galaxies BD",
          "Generation 21",
          "Golf",
          "Grand rendez-vous de la FWB",
          "Grandeur nature",
          "Guerre au Proche-Orient",
          "Guerre en Ukraine",
          "Gymnastique",
          "Hainaut",
          "Hainaut Matin",
          "Handball",
          "High tech",
          "Hip-Hop",
          "Histoire",
          "Hockey",
          "Hope",
          "Humour",
          "Ici le monde",
          "Immobilier",
          "Incognito",
          "Info",
          "Infos locales",
          "Interviews cinéma",
          "Investigation",
          "J'peux pas j'ai spectacle",
          "JO Paris 2024",
          "Jam",
          "Jardinage",
          "Jardins & Loisirs",
          "Jeudi en prime",
          "Jeux Paralympiques",
          "Jeux vidéo",
          "Journal du Rock",
          "Journal du classique",
          "Judo",
          "Jupiler Pro League",
          "Justice",
          "L'Histoire continue",
          "L'actu de nos athlètes",
          "L'actu des séries",
          "L'actu du Jazz",
          "L'actu musicale de VivaCité",
          "L'agenda Ciné",
          "L'effet Stromae",
          "L'esport en Belgique",
          "L'oeil sur le monde",
          "L'été meurtrier",
          "La Grande Forme",
          "La Première",
          "La Trois",
          "La Une",
          "La couleur des idées",
          "Le 6/8",
          "Le 8/9",
          "Le Beau Vélo de Ravel",
          "Le Grand Cactus",
          "Le Jardin extraordinaire",
          "Le Monde en direct",
          "Le Monde est un Village",
          "Le Réveil de Tipik",
          "Le Tournant",
          "Le jeu vidéo en Belgique",
          "Le meilleur de nos émissions",
          "Le roadtrip des communales",
          "Le top du classique",
          "Les Belges du bout du monde",
          "Les Classiques",
          "Les Clés",
          "Les Couleurs de l'Info",
          "Les Enfants de chœur",
          "Les Grenades",
          "Les Niouzz",
          "Les ambassadeurs",
          "Les aventureuses",
          "Les choix de La Prem1ère",
          "Les critiques d'Hugues Dayez",
          "Les films en exclu sur Auvio",
          "Les nouveaux bâtisseurs",
          "Les séries en exclu sur Auvio",
          "Liga",
          "Ligue 1 - Football",
          "Links",
          "Littérature",
          "Liège",
          "Liège Matin",
          "Luxembourg",
          "Luxembourg Matin",
          "Maison",
          "Manga",
          "Matin Première",
          "Matière grise",
          "Mercato",
          "Mobilinfo",
          "Mobilité",
          "Mode",
          "Mon Petit Neuvième",
          "Mon plus beau village",
          "Monde",
          "Mondiaux de cyclisme",
          "Moteurs",
          "Moteurs Endurance",
          "Moteurs MotoGP",
          "Moto2",
          "Motocross",
          "Moyen-Orient",
          "Musiq3",
          "Musiq3 - Concours",
          "Musique",
          "Musique - Festivals",
          "Musique classique",
          "Musiques du monde",
          "Médias",
          "Météo",
          "Namur",
          "Namur matin",
          "Natation",
          "Nations League",
          "Newsletter",
          "Nobody Knows",
          "Nomade",
          "Nos partenaires",
          "Nutrition",
          "OPFP",
          "Océanie",
          "On connait nos classiques",
          "On n'est pas des IENCLI",
          "On n'est pas des pigeons",
          "Opinions",
          "Opéra",
          "PFAS",
          "Pandore",
          "Par Ouï-dire",
          "Partenariats",
          "Partenariats Musiq3",
          "Patrimoine",
          "People",
          "Philo",
          "Photographie",
          "Playlists Dolce Vita",
          "Podcasts",
          "Podcasts La Première",
          "Podcasts Musiq3",
          "Politique",
          "Pollution",
          "Pop",
          "Portraits",
          "Premier League",
          "Prix Première",
          "Prix de l'énergie",
          "Procès de Mazan",
          "Protection de la vie privée",
          "QR",
          "Qatargate",
          "Quel Temps pour la planète ?",
          "Questions-Réponses",
          "RTBF TV",
          "Rallye",
          "Rallye Dakar",
          "Recyclage",
          "Red Flames",
          "Relationnel",
          "Religion",
          "Rock",
          "Rock & Roll Attitude",
          "Roland Garros",
          "Royauté",
          "Rude",
          "Rugby",
          "Régions",
          "Réseaux sociaux",
          "Résultats 2024",
          "Samy et Lou",
          "Santé",
          "Santé mentale",
          "Santé physique",
          "Sciences insolites",
          "Scène",
          "Semaine de la musique belge",
          "Serie A - Football",
          "Sexualité",
          "Sommeil",
          "Sous couverture",
          "Sport",
          "Sport - Insolites",
          "Sportives",
          "Sports d'hiver",
          "Standard de Liège",
          "Stoemp Pèkèt et des rawettes",
          "Sur la route : USA",
          "Séance VIP",
          "Séisme au Maroc",
          "Séries RTBF",
          "Séries belges",
          "TV - Fort Boyard",
          "Table d'écoute",
          "Tarmac",
          "Tarmac - Actu",
          "Tech",
          "Telle est la question !",
          "Tendances Première",
          "Tennis",
          "Tennis de table",
          "The Dancer",
          "The Voice Belgique",
          "The Voice Kids",
          "Théâtre",
          "Timeline",
          "Tip top",
          "Tipik",
          "Tipik - Détente",
          "Tipik - Musique",
          "Tipik - Podcasts",
          "Tipik - Pop Culture",
          "Tipik News",
          "Tipik Radio",
          "Tipik Tv",
          "Tour de France",
          "Tour de France Femmes",
          "Tous les sports",
          "Tout le contenu exclusif Auvio",
          "Trains pas comme les autres",
          "Trentenaires",
          "US Open",
          "Un Opéra, une histoire",
          "Un jour dans l'histoire",
          "Un monde à part",
          "Une brique dans le ventre",
          "Union Saint-Gilloise",
          "Vews",
          "Vidéo",
          "Vie pratique",
          "Viens, je t'explique",
          "Visite du Pape en Belgique",
          "Viva +",
          "Viva Week-End",
          "Viva for Life",
          "Vivacité",
          "Vivre Ici",
          "Voile",
          "Voyages",
          "Vuelta",
          "WRC",
          "Washington d'ici",
          "Zapping 21",
          "Zoomer !",
          "Zéro Déchet",
          "iXPé",
          "Ça vient de sortir",
          "Élection américaine 2024",
          "Élections Hainaut",
          "Élections communales",
          "Élections fédérales 2024",
          "Élections régionales 2024",
          "Élections à Bruxelles",
          "Élections à Liège",
          "Élections à Namur"
         ],
         "xaxis": "x",
         "y": [
          17,
          2,
          1,
          1,
          40,
          7,
          7,
          15,
          9,
          8,
          43,
          19,
          28,
          37,
          3,
          30,
          1,
          1,
          42,
          36,
          1,
          2,
          2,
          20,
          51,
          3,
          11,
          37,
          5,
          258,
          14,
          2,
          2,
          9,
          31,
          9,
          2,
          90,
          3,
          261,
          12,
          5,
          23,
          7,
          8,
          1,
          14,
          6,
          30,
          8,
          1,
          51,
          14,
          6,
          35,
          2,
          17,
          210,
          4,
          189,
          17,
          3,
          7,
          59,
          28,
          2,
          7,
          13,
          4,
          32,
          6,
          10,
          30,
          227,
          12,
          2,
          2,
          10,
          1,
          127,
          1,
          34,
          13,
          3,
          1,
          9,
          3,
          3,
          15,
          159,
          8,
          21,
          2,
          3,
          2,
          3,
          29,
          20,
          1,
          13,
          1,
          3,
          1,
          39,
          1,
          2,
          25,
          2,
          1,
          34,
          233,
          41,
          29,
          6,
          20,
          2,
          10,
          30,
          117,
          109,
          7,
          2,
          9,
          5,
          13,
          8,
          273,
          155,
          1,
          315,
          7,
          2,
          77,
          3,
          38,
          5,
          4,
          68,
          1,
          3,
          1,
          47,
          33,
          8,
          21,
          3,
          12,
          7,
          40,
          2,
          5,
          38,
          256,
          267,
          43,
          4,
          132,
          58,
          7,
          3,
          52,
          25,
          1,
          5,
          1,
          8,
          1,
          1,
          4,
          5,
          19,
          10,
          7,
          5,
          2,
          2,
          24,
          10,
          30,
          8,
          75,
          6,
          3,
          8,
          1,
          2,
          9,
          12,
          16,
          3,
          1,
          39,
          23,
          14,
          10,
          8,
          8,
          1,
          1,
          5,
          28,
          11,
          2,
          111,
          375,
          17,
          62,
          17,
          8,
          2,
          12,
          15,
          1,
          52,
          60,
          15,
          7,
          2,
          327,
          68,
          6,
          10,
          19,
          2,
          6,
          19,
          21,
          8,
          117,
          2,
          5,
          2,
          23,
          86,
          73,
          19,
          3,
          28,
          6,
          7,
          2,
          19,
          13,
          18,
          4,
          11,
          7,
          88,
          3,
          13,
          8,
          3,
          1,
          4,
          1,
          48,
          87,
          4,
          4,
          1,
          1,
          28,
          1,
          47,
          17,
          10,
          7,
          35,
          1,
          2,
          19,
          4,
          16,
          2,
          40,
          8,
          1,
          5,
          2,
          1,
          10,
          26,
          12,
          6,
          1,
          2,
          12,
          1,
          1,
          132,
          41,
          59,
          16,
          52,
          42,
          39,
          6,
          15,
          1,
          16,
          7,
          2,
          1,
          11,
          8,
          1,
          5,
          15,
          5,
          21,
          2,
          1,
          9,
          1,
          1,
          9,
          50,
          19,
          10,
          1,
          1,
          114,
          1,
          1,
          4,
          1,
          20,
          9,
          9,
          38,
          2,
          20,
          2,
          31,
          8,
          6,
          25,
          7,
          2,
          23,
          3,
          4,
          2,
          9,
          2,
          2,
          1,
          7,
          5,
          3,
          19,
          9,
          6,
          38,
          1,
          20,
          57,
          82,
          77,
          1,
          44,
          14,
          73,
          4,
          5,
          3,
          1,
          26,
          6,
          110,
          3,
          214,
          3,
          3,
          6,
          2,
          3
         ],
         "yaxis": "y"
        }
       ],
       "layout": {
        "barmode": "relative",
        "legend": {
         "tracegroupgap": 0
        },
        "margin": {
         "t": 60
        },
        "template": {
         "data": {
          "bar": [
           {
            "error_x": {
             "color": "#2a3f5f"
            },
            "error_y": {
             "color": "#2a3f5f"
            },
            "marker": {
             "line": {
              "color": "#E5ECF6",
              "width": 0.5
             },
             "pattern": {
              "fillmode": "overlay",
              "size": 10,
              "solidity": 0.2
             }
            },
            "type": "bar"
           }
          ],
          "barpolar": [
           {
            "marker": {
             "line": {
              "color": "#E5ECF6",
              "width": 0.5
             },
             "pattern": {
              "fillmode": "overlay",
              "size": 10,
              "solidity": 0.2
             }
            },
            "type": "barpolar"
           }
          ],
          "carpet": [
           {
            "aaxis": {
             "endlinecolor": "#2a3f5f",
             "gridcolor": "white",
             "linecolor": "white",
             "minorgridcolor": "white",
             "startlinecolor": "#2a3f5f"
            },
            "baxis": {
             "endlinecolor": "#2a3f5f",
             "gridcolor": "white",
             "linecolor": "white",
             "minorgridcolor": "white",
             "startlinecolor": "#2a3f5f"
            },
            "type": "carpet"
           }
          ],
          "choropleth": [
           {
            "colorbar": {
             "outlinewidth": 0,
             "ticks": ""
            },
            "type": "choropleth"
           }
          ],
          "contour": [
           {
            "colorbar": {
             "outlinewidth": 0,
             "ticks": ""
            },
            "colorscale": [
             [
              0,
              "#0d0887"
             ],
             [
              0.1111111111111111,
              "#46039f"
             ],
             [
              0.2222222222222222,
              "#7201a8"
             ],
             [
              0.3333333333333333,
              "#9c179e"
             ],
             [
              0.4444444444444444,
              "#bd3786"
             ],
             [
              0.5555555555555556,
              "#d8576b"
             ],
             [
              0.6666666666666666,
              "#ed7953"
             ],
             [
              0.7777777777777778,
              "#fb9f3a"
             ],
             [
              0.8888888888888888,
              "#fdca26"
             ],
             [
              1,
              "#f0f921"
             ]
            ],
            "type": "contour"
           }
          ],
          "contourcarpet": [
           {
            "colorbar": {
             "outlinewidth": 0,
             "ticks": ""
            },
            "type": "contourcarpet"
           }
          ],
          "heatmap": [
           {
            "colorbar": {
             "outlinewidth": 0,
             "ticks": ""
            },
            "colorscale": [
             [
              0,
              "#0d0887"
             ],
             [
              0.1111111111111111,
              "#46039f"
             ],
             [
              0.2222222222222222,
              "#7201a8"
             ],
             [
              0.3333333333333333,
              "#9c179e"
             ],
             [
              0.4444444444444444,
              "#bd3786"
             ],
             [
              0.5555555555555556,
              "#d8576b"
             ],
             [
              0.6666666666666666,
              "#ed7953"
             ],
             [
              0.7777777777777778,
              "#fb9f3a"
             ],
             [
              0.8888888888888888,
              "#fdca26"
             ],
             [
              1,
              "#f0f921"
             ]
            ],
            "type": "heatmap"
           }
          ],
          "heatmapgl": [
           {
            "colorbar": {
             "outlinewidth": 0,
             "ticks": ""
            },
            "colorscale": [
             [
              0,
              "#0d0887"
             ],
             [
              0.1111111111111111,
              "#46039f"
             ],
             [
              0.2222222222222222,
              "#7201a8"
             ],
             [
              0.3333333333333333,
              "#9c179e"
             ],
             [
              0.4444444444444444,
              "#bd3786"
             ],
             [
              0.5555555555555556,
              "#d8576b"
             ],
             [
              0.6666666666666666,
              "#ed7953"
             ],
             [
              0.7777777777777778,
              "#fb9f3a"
             ],
             [
              0.8888888888888888,
              "#fdca26"
             ],
             [
              1,
              "#f0f921"
             ]
            ],
            "type": "heatmapgl"
           }
          ],
          "histogram": [
           {
            "marker": {
             "pattern": {
              "fillmode": "overlay",
              "size": 10,
              "solidity": 0.2
             }
            },
            "type": "histogram"
           }
          ],
          "histogram2d": [
           {
            "colorbar": {
             "outlinewidth": 0,
             "ticks": ""
            },
            "colorscale": [
             [
              0,
              "#0d0887"
             ],
             [
              0.1111111111111111,
              "#46039f"
             ],
             [
              0.2222222222222222,
              "#7201a8"
             ],
             [
              0.3333333333333333,
              "#9c179e"
             ],
             [
              0.4444444444444444,
              "#bd3786"
             ],
             [
              0.5555555555555556,
              "#d8576b"
             ],
             [
              0.6666666666666666,
              "#ed7953"
             ],
             [
              0.7777777777777778,
              "#fb9f3a"
             ],
             [
              0.8888888888888888,
              "#fdca26"
             ],
             [
              1,
              "#f0f921"
             ]
            ],
            "type": "histogram2d"
           }
          ],
          "histogram2dcontour": [
           {
            "colorbar": {
             "outlinewidth": 0,
             "ticks": ""
            },
            "colorscale": [
             [
              0,
              "#0d0887"
             ],
             [
              0.1111111111111111,
              "#46039f"
             ],
             [
              0.2222222222222222,
              "#7201a8"
             ],
             [
              0.3333333333333333,
              "#9c179e"
             ],
             [
              0.4444444444444444,
              "#bd3786"
             ],
             [
              0.5555555555555556,
              "#d8576b"
             ],
             [
              0.6666666666666666,
              "#ed7953"
             ],
             [
              0.7777777777777778,
              "#fb9f3a"
             ],
             [
              0.8888888888888888,
              "#fdca26"
             ],
             [
              1,
              "#f0f921"
             ]
            ],
            "type": "histogram2dcontour"
           }
          ],
          "mesh3d": [
           {
            "colorbar": {
             "outlinewidth": 0,
             "ticks": ""
            },
            "type": "mesh3d"
           }
          ],
          "parcoords": [
           {
            "line": {
             "colorbar": {
              "outlinewidth": 0,
              "ticks": ""
             }
            },
            "type": "parcoords"
           }
          ],
          "pie": [
           {
            "automargin": true,
            "type": "pie"
           }
          ],
          "scatter": [
           {
            "fillpattern": {
             "fillmode": "overlay",
             "size": 10,
             "solidity": 0.2
            },
            "type": "scatter"
           }
          ],
          "scatter3d": [
           {
            "line": {
             "colorbar": {
              "outlinewidth": 0,
              "ticks": ""
             }
            },
            "marker": {
             "colorbar": {
              "outlinewidth": 0,
              "ticks": ""
             }
            },
            "type": "scatter3d"
           }
          ],
          "scattercarpet": [
           {
            "marker": {
             "colorbar": {
              "outlinewidth": 0,
              "ticks": ""
             }
            },
            "type": "scattercarpet"
           }
          ],
          "scattergeo": [
           {
            "marker": {
             "colorbar": {
              "outlinewidth": 0,
              "ticks": ""
             }
            },
            "type": "scattergeo"
           }
          ],
          "scattergl": [
           {
            "marker": {
             "colorbar": {
              "outlinewidth": 0,
              "ticks": ""
             }
            },
            "type": "scattergl"
           }
          ],
          "scattermapbox": [
           {
            "marker": {
             "colorbar": {
              "outlinewidth": 0,
              "ticks": ""
             }
            },
            "type": "scattermapbox"
           }
          ],
          "scatterpolar": [
           {
            "marker": {
             "colorbar": {
              "outlinewidth": 0,
              "ticks": ""
             }
            },
            "type": "scatterpolar"
           }
          ],
          "scatterpolargl": [
           {
            "marker": {
             "colorbar": {
              "outlinewidth": 0,
              "ticks": ""
             }
            },
            "type": "scatterpolargl"
           }
          ],
          "scatterternary": [
           {
            "marker": {
             "colorbar": {
              "outlinewidth": 0,
              "ticks": ""
             }
            },
            "type": "scatterternary"
           }
          ],
          "surface": [
           {
            "colorbar": {
             "outlinewidth": 0,
             "ticks": ""
            },
            "colorscale": [
             [
              0,
              "#0d0887"
             ],
             [
              0.1111111111111111,
              "#46039f"
             ],
             [
              0.2222222222222222,
              "#7201a8"
             ],
             [
              0.3333333333333333,
              "#9c179e"
             ],
             [
              0.4444444444444444,
              "#bd3786"
             ],
             [
              0.5555555555555556,
              "#d8576b"
             ],
             [
              0.6666666666666666,
              "#ed7953"
             ],
             [
              0.7777777777777778,
              "#fb9f3a"
             ],
             [
              0.8888888888888888,
              "#fdca26"
             ],
             [
              1,
              "#f0f921"
             ]
            ],
            "type": "surface"
           }
          ],
          "table": [
           {
            "cells": {
             "fill": {
              "color": "#EBF0F8"
             },
             "line": {
              "color": "white"
             }
            },
            "header": {
             "fill": {
              "color": "#C8D4E3"
             },
             "line": {
              "color": "white"
             }
            },
            "type": "table"
           }
          ]
         },
         "layout": {
          "annotationdefaults": {
           "arrowcolor": "#2a3f5f",
           "arrowhead": 0,
           "arrowwidth": 1
          },
          "autotypenumbers": "strict",
          "coloraxis": {
           "colorbar": {
            "outlinewidth": 0,
            "ticks": ""
           }
          },
          "colorscale": {
           "diverging": [
            [
             0,
             "#8e0152"
            ],
            [
             0.1,
             "#c51b7d"
            ],
            [
             0.2,
             "#de77ae"
            ],
            [
             0.3,
             "#f1b6da"
            ],
            [
             0.4,
             "#fde0ef"
            ],
            [
             0.5,
             "#f7f7f7"
            ],
            [
             0.6,
             "#e6f5d0"
            ],
            [
             0.7,
             "#b8e186"
            ],
            [
             0.8,
             "#7fbc41"
            ],
            [
             0.9,
             "#4d9221"
            ],
            [
             1,
             "#276419"
            ]
           ],
           "sequential": [
            [
             0,
             "#0d0887"
            ],
            [
             0.1111111111111111,
             "#46039f"
            ],
            [
             0.2222222222222222,
             "#7201a8"
            ],
            [
             0.3333333333333333,
             "#9c179e"
            ],
            [
             0.4444444444444444,
             "#bd3786"
            ],
            [
             0.5555555555555556,
             "#d8576b"
            ],
            [
             0.6666666666666666,
             "#ed7953"
            ],
            [
             0.7777777777777778,
             "#fb9f3a"
            ],
            [
             0.8888888888888888,
             "#fdca26"
            ],
            [
             1,
             "#f0f921"
            ]
           ],
           "sequentialminus": [
            [
             0,
             "#0d0887"
            ],
            [
             0.1111111111111111,
             "#46039f"
            ],
            [
             0.2222222222222222,
             "#7201a8"
            ],
            [
             0.3333333333333333,
             "#9c179e"
            ],
            [
             0.4444444444444444,
             "#bd3786"
            ],
            [
             0.5555555555555556,
             "#d8576b"
            ],
            [
             0.6666666666666666,
             "#ed7953"
            ],
            [
             0.7777777777777778,
             "#fb9f3a"
            ],
            [
             0.8888888888888888,
             "#fdca26"
            ],
            [
             1,
             "#f0f921"
            ]
           ]
          },
          "colorway": [
           "#636efa",
           "#EF553B",
           "#00cc96",
           "#ab63fa",
           "#FFA15A",
           "#19d3f3",
           "#FF6692",
           "#B6E880",
           "#FF97FF",
           "#FECB52"
          ],
          "font": {
           "color": "#2a3f5f"
          },
          "geo": {
           "bgcolor": "white",
           "lakecolor": "white",
           "landcolor": "#E5ECF6",
           "showlakes": true,
           "showland": true,
           "subunitcolor": "white"
          },
          "hoverlabel": {
           "align": "left"
          },
          "hovermode": "closest",
          "mapbox": {
           "style": "light"
          },
          "paper_bgcolor": "white",
          "plot_bgcolor": "#E5ECF6",
          "polar": {
           "angularaxis": {
            "gridcolor": "white",
            "linecolor": "white",
            "ticks": ""
           },
           "bgcolor": "#E5ECF6",
           "radialaxis": {
            "gridcolor": "white",
            "linecolor": "white",
            "ticks": ""
           }
          },
          "scene": {
           "xaxis": {
            "backgroundcolor": "#E5ECF6",
            "gridcolor": "white",
            "gridwidth": 2,
            "linecolor": "white",
            "showbackground": true,
            "ticks": "",
            "zerolinecolor": "white"
           },
           "yaxis": {
            "backgroundcolor": "#E5ECF6",
            "gridcolor": "white",
            "gridwidth": 2,
            "linecolor": "white",
            "showbackground": true,
            "ticks": "",
            "zerolinecolor": "white"
           },
           "zaxis": {
            "backgroundcolor": "#E5ECF6",
            "gridcolor": "white",
            "gridwidth": 2,
            "linecolor": "white",
            "showbackground": true,
            "ticks": "",
            "zerolinecolor": "white"
           }
          },
          "shapedefaults": {
           "line": {
            "color": "#2a3f5f"
           }
          },
          "ternary": {
           "aaxis": {
            "gridcolor": "white",
            "linecolor": "white",
            "ticks": ""
           },
           "baxis": {
            "gridcolor": "white",
            "linecolor": "white",
            "ticks": ""
           },
           "bgcolor": "#E5ECF6",
           "caxis": {
            "gridcolor": "white",
            "linecolor": "white",
            "ticks": ""
           }
          },
          "title": {
           "x": 0.05
          },
          "xaxis": {
           "automargin": true,
           "gridcolor": "white",
           "linecolor": "white",
           "ticks": "",
           "title": {
            "standoff": 15
           },
           "zerolinecolor": "white",
           "zerolinewidth": 2
          },
          "yaxis": {
           "automargin": true,
           "gridcolor": "white",
           "linecolor": "white",
           "ticks": "",
           "title": {
            "standoff": 15
           },
           "zerolinecolor": "white",
           "zerolinewidth": 2
          }
         }
        },
        "xaxis": {
         "anchor": "y",
         "categoryorder": "total descending",
         "domain": [
          0,
          1
         ],
         "title": {
          "text": "category"
         }
        },
        "yaxis": {
         "anchor": "x",
         "domain": [
          0,
          1
         ],
         "title": {
          "text": "title"
         }
        }
       }
      }
     },
     "metadata": {},
     "output_type": "display_data"
    }
   ],
   "source": [
    "fig = px.bar(df.groupby('category').count().reset_index(), x='category', y='title')\n",
    "fig.update_layout(xaxis = {\"categoryorder\":\"total descending\"})"
   ]
  }
 ],
 "metadata": {
  "kernelspec": {
   "display_name": "general",
   "language": "python",
   "name": "python3"
  },
  "language_info": {
   "codemirror_mode": {
    "name": "ipython",
    "version": 3
   },
   "file_extension": ".py",
   "mimetype": "text/x-python",
   "name": "python",
   "nbconvert_exporter": "python",
   "pygments_lexer": "ipython3",
   "version": "3.12.7"
  }
 },
 "nbformat": 4,
 "nbformat_minor": 2
}
